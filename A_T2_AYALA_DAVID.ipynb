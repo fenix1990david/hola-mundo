{
  "nbformat": 4,
  "nbformat_minor": 0,
  "metadata": {
    "colab": {
      "provenance": [],
      "authorship_tag": "ABX9TyObnm0Qj5RhPwFy6QOiec+i",
      "include_colab_link": true
    },
    "kernelspec": {
      "name": "python3",
      "display_name": "Python 3"
    },
    "language_info": {
      "name": "python"
    }
  },
  "cells": [
    {
      "cell_type": "markdown",
      "metadata": {
        "id": "view-in-github",
        "colab_type": "text"
      },
      "source": [
        "<a href=\"https://colab.research.google.com/github/fenix1990david/hola-mundo/blob/main/A_T2_AYALA_DAVID.ipynb\" target=\"_parent\"><img src=\"https://colab.research.google.com/assets/colab-badge.svg\" alt=\"Open In Colab\"/></a>"
      ]
    },
    {
      "cell_type": "code",
      "execution_count": 1,
      "metadata": {
        "colab": {
          "base_uri": "https://localhost:8080/"
        },
        "id": "LFx19yJBqsLQ",
        "outputId": "7162bac7-3573-4fc4-fe43-60ad63fa8e1f"
      },
      "outputs": [
        {
          "output_type": "stream",
          "name": "stdout",
          "text": [
            "hola mundo\n"
          ]
        }
      ],
      "source": [
        "print (\"hola mundo\")"
      ]
    },
    {
      "cell_type": "code",
      "source": [
        "a=(int(input(\"Ingrese un numero\\n\")))\n",
        "b=(int(input(\"Ingrese otro numero\\n\")))\n",
        "\n",
        "suma=a+b\n",
        "\n",
        "print (\"La suma es \\n\",suma)"
      ],
      "metadata": {
        "colab": {
          "base_uri": "https://localhost:8080/"
        },
        "id": "O9NSCG_Rq4A7",
        "outputId": "88c047fc-ad44-4918-ed0d-f8690481097d"
      },
      "execution_count": 10,
      "outputs": [
        {
          "output_type": "stream",
          "name": "stdout",
          "text": [
            "Ingrese un numero\n",
            "2\n",
            "Ingrese otro numero\n",
            "1\n",
            "Laa suma es \n",
            " 3\n"
          ]
        }
      ]
    },
    {
      "cell_type": "code",
      "source": [
        "dato=int(input(\"ingrese el valor\\n\"))\n",
        "\n",
        "if dato % 2 == 0:\n",
        "  print (\"es par\")\n",
        "else:\n",
        "  print (\"no es par\")"
      ],
      "metadata": {
        "colab": {
          "base_uri": "https://localhost:8080/"
        },
        "id": "yXfmrAwS3Oa9",
        "outputId": "ad454c1d-bea8-44f0-d91f-a8758d882b3f"
      },
      "execution_count": 23,
      "outputs": [
        {
          "output_type": "stream",
          "name": "stdout",
          "text": [
            "ingrese el valor\n",
            "9\n",
            "no es par\n"
          ]
        }
      ]
    },
    {
      "cell_type": "code",
      "source": [
        "7operacion=input(\"ingrese el operador \\n suma=+\\n resta= -\\n multiplicacion *\\n division / \\n\")\n",
        "a=(int(input(\"Ingrese un numero\\n\")))\n",
        "b=(int(input(\"Ingrese otro numero\\n\")))\n",
        "\n",
        "\n",
        "if operacion == \"+\":\n",
        "    suma=a+b\n",
        "    print(\"la suma es=\",suma)\n",
        "elif operacion==\"-\":\n",
        "    resta=a-b\n",
        "    print(\"la resta es=\",resta)\n",
        "elif operacion==\"*\":\n",
        "    multiplicacion=a*b\n",
        "    print(\"la multiplicacion es=\",multiplicacion)\n",
        "else:\n",
        "    division=a/b\n",
        "    print(\"la division es=\",division)"
      ],
      "metadata": {
        "colab": {
          "base_uri": "https://localhost:8080/"
        },
        "id": "kDQL6cTe4DVg",
        "outputId": "6da7b5f0-6e77-425a-8706-d4e732f36221"
      },
      "execution_count": 21,
      "outputs": [
        {
          "output_type": "stream",
          "name": "stdout",
          "text": [
            "ingrese el operador \n",
            " suma=+\n",
            " resta= -\n",
            " multiplicacion *\n",
            " division / \n",
            "-\n",
            "Ingrese un numero\n",
            "9\n",
            "Ingrese otro numero\n",
            "8\n",
            "la resta es 1\n"
          ]
        }
      ]
    },
    {
      "cell_type": "code",
      "source": [
        "lista=[]\n",
        "\n",
        "for i in range (3):\n",
        "    datos=lista.append(int(input(\"datos\")))\n",
        "    maximo=max(lista)\n",
        "\n",
        "\n",
        "print (\"el mayor valor es \\n\",maximo)"
      ],
      "metadata": {
        "id": "MlHBDcPz4gqQ"
      },
      "execution_count": null,
      "outputs": []
    },
    {
      "cell_type": "code",
      "source": [
        "from numpy import pi\n",
        "valor_pi = pi\n",
        "radio = int(input(\"Ingrese el valor del radio\\n\"))\n",
        "\n",
        "area = valor_pi*(radio**2)\n",
        "\n",
        "print (\"el area es\\n\",round(area,2))"
      ],
      "metadata": {
        "colab": {
          "base_uri": "https://localhost:8080/"
        },
        "id": "CwOCw3cUA18K",
        "outputId": "8e943bb7-4063-43d0-93f5-88b70dfc3dcd"
      },
      "execution_count": 36,
      "outputs": [
        {
          "output_type": "stream",
          "name": "stdout",
          "text": [
            "Ingrese el valor del radio\n",
            "4\n",
            "el area es\n",
            " 50.27\n"
          ]
        }
      ]
    },
    {
      "cell_type": "code",
      "source": [],
      "metadata": {
        "id": "TVKtRUZUElqL"
      },
      "execution_count": null,
      "outputs": []
    }
  ]
}