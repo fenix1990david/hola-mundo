{
  "nbformat": 4,
  "nbformat_minor": 0,
  "metadata": {
    "colab": {
      "provenance": [],
      "authorship_tag": "ABX9TyNrOFS8AA25sfvsj0OV0JRJ",
      "include_colab_link": true
    },
    "kernelspec": {
      "name": "python3",
      "display_name": "Python 3"
    },
    "language_info": {
      "name": "python"
    }
  },
  "cells": [
    {
      "cell_type": "markdown",
      "metadata": {
        "id": "view-in-github",
        "colab_type": "text"
      },
      "source": [
        "<a href=\"https://colab.research.google.com/github/fenix1990david/hola-mundo/blob/main/A_T2_AYALA_DAVID.ipynb\" target=\"_parent\"><img src=\"https://colab.research.google.com/assets/colab-badge.svg\" alt=\"Open In Colab\"/></a>"
      ]
    },
    {
      "cell_type": "code",
      "execution_count": null,
      "metadata": {
        "colab": {
          "base_uri": "https://localhost:8080/"
        },
        "id": "LFx19yJBqsLQ",
        "outputId": "7162bac7-3573-4fc4-fe43-60ad63fa8e1f"
      },
      "outputs": [
        {
          "output_type": "stream",
          "name": "stdout",
          "text": [
            "hola mundo\n"
          ]
        }
      ],
      "source": [
        "print (\"hola mundo\")"
      ]
    },
    {
      "cell_type": "code",
      "source": [
        "a=(int(input(\"Ingrese un numero\\n\")))\n",
        "b=(int(input(\"Ingrese otro numero\\n\")))\n",
        "\n",
        "suma=a+b\n",
        "\n",
        "print (\"La suma es \\n\",suma)"
      ],
      "metadata": {
        "colab": {
          "base_uri": "https://localhost:8080/"
        },
        "id": "O9NSCG_Rq4A7",
        "outputId": "88c047fc-ad44-4918-ed0d-f8690481097d"
      },
      "execution_count": null,
      "outputs": [
        {
          "output_type": "stream",
          "name": "stdout",
          "text": [
            "Ingrese un numero\n",
            "2\n",
            "Ingrese otro numero\n",
            "1\n",
            "Laa suma es \n",
            " 3\n"
          ]
        }
      ]
    },
    {
      "cell_type": "code",
      "source": [
        "dato=int(input(\"ingrese el valor\\n\"))\n",
        "\n",
        "if dato % 2 == 0:\n",
        "  print (\"es par\")\n",
        "else:\n",
        "  print (\"no es par\")"
      ],
      "metadata": {
        "colab": {
          "base_uri": "https://localhost:8080/"
        },
        "id": "yXfmrAwS3Oa9",
        "outputId": "ad454c1d-bea8-44f0-d91f-a8758d882b3f"
      },
      "execution_count": null,
      "outputs": [
        {
          "output_type": "stream",
          "name": "stdout",
          "text": [
            "ingrese el valor\n",
            "9\n",
            "no es par\n"
          ]
        }
      ]
    },
    {
      "cell_type": "code",
      "source": [
        "operacion=input(\"ingrese el operador \\n suma=+\\n resta= -\\n multiplicacion *\\n division / \\n\")\n",
        "a=(int(input(\"Ingrese un numero\\n\")))\n",
        "b=(int(input(\"Ingrese otro numero\\n\")))\n",
        "\n",
        "\n",
        "if operacion == \"+\":\n",
        "    suma=a+b\n",
        "    print(\"la suma es=\",suma)\n",
        "elif operacion==\"-\":\n",
        "    resta=a-b\n",
        "    print(\"la resta es=\",resta)\n",
        "elif operacion==\"*\":\n",
        "    multiplicacion=a*b\n",
        "    print(\"la multiplicacion es=\",multiplicacion)\n",
        "else:\n",
        "    division=a/b\n",
        "    print(\"la division es=\",division)"
      ],
      "metadata": {
        "colab": {
          "base_uri": "https://localhost:8080/"
        },
        "id": "kDQL6cTe4DVg",
        "outputId": "f4b5b1a3-ad73-4d84-ce02-f26326afe570"
      },
      "execution_count": null,
      "outputs": [
        {
          "output_type": "stream",
          "name": "stdout",
          "text": [
            "ingrese el operador \n",
            " suma=+\n",
            " resta= -\n",
            " multiplicacion *\n",
            " division / \n",
            "+\n",
            "Ingrese un numero\n",
            "6\n",
            "Ingrese otro numero\n",
            "6\n",
            "la suma es= 12\n"
          ]
        }
      ]
    },
    {
      "cell_type": "code",
      "source": [
        "lista=[]\n",
        "\n",
        "for i in range (3):\n",
        "    datos=lista.append(int(input(\"datos\")))\n",
        "    maximo=max(lista)\n",
        "\n",
        "\n",
        "print (\"el mayor valor es \\n\",maximo)"
      ],
      "metadata": {
        "id": "MlHBDcPz4gqQ"
      },
      "execution_count": null,
      "outputs": []
    },
    {
      "cell_type": "code",
      "source": [
        "from numpy import pi\n",
        "valor_pi = pi\n",
        "radio = int(input(\"Ingrese el valor del radio\\n\"))\n",
        "\n",
        "area = valor_pi*(radio**2)\n",
        "\n",
        "print (\"el area es\\n\",round(area,2))"
      ],
      "metadata": {
        "colab": {
          "base_uri": "https://localhost:8080/"
        },
        "id": "CwOCw3cUA18K",
        "outputId": "76da8b9b-047a-4515-f9e1-2ad6060f788f"
      },
      "execution_count": null,
      "outputs": [
        {
          "output_type": "stream",
          "name": "stdout",
          "text": [
            "Ingrese el valor del radio\n",
            "6\n",
            "el area es\n",
            " 113.1\n"
          ]
        }
      ]
    },
    {
      "cell_type": "code",
      "source": [],
      "metadata": {
        "id": "5G6hcgzCa0Lv"
      },
      "execution_count": null,
      "outputs": []
    },
    {
      "cell_type": "code",
      "source": [
        "temperatura_celsius = int(input(\"ingrese la temperatura en celsius\\b\"))\n",
        "\n",
        "f=(temperatura_celsius*1.8)+32\n",
        "\n",
        "print (\"La temperatura en farenheit es=\\n\",f)"
      ],
      "metadata": {
        "colab": {
          "base_uri": "https://localhost:8080/"
        },
        "id": "TVKtRUZUElqL",
        "outputId": "78a00327-6a97-4b3d-c32b-5f2ce8e8034b"
      },
      "execution_count": null,
      "outputs": [
        {
          "output_type": "stream",
          "name": "stdout",
          "text": [
            "ingrese la temperatura en celsius\b123\n",
            "La temperatura en farenheit es=\n",
            " 253.4\n"
          ]
        }
      ]
    },
    {
      "cell_type": "code",
      "source": [
        "datos=[]\n",
        "\n",
        "for i in range (11):\n",
        "   valores =datos.append (i)\n",
        "cuenta = list(reversed(datos))\n",
        "print (cuenta)\n"
      ],
      "metadata": {
        "colab": {
          "base_uri": "https://localhost:8080/"
        },
        "id": "tOTEka1WLD-M",
        "outputId": "821618d2-c67c-45d4-82bd-7504e1153ce8"
      },
      "execution_count": null,
      "outputs": [
        {
          "output_type": "stream",
          "name": "stdout",
          "text": [
            "[10, 9, 8, 7, 6, 5, 4, 3, 2, 1, 0]\n"
          ]
        }
      ]
    },
    {
      "cell_type": "code",
      "source": [
        "for i in range(10, -1):\n",
        "    print(i)"
      ],
      "metadata": {
        "id": "TnySsFFVLsSH"
      },
      "execution_count": null,
      "outputs": []
    },
    {
      "cell_type": "code",
      "source": [
        "tabla=int(input(\"tabla de multiplicar\\n\"))\n",
        "for i in range(11):\n",
        "  resultado =tabla*i\n",
        "  print (f\"{tabla}*{i}={resultado}\")\n",
        "\n",
        "\n"
      ],
      "metadata": {
        "colab": {
          "base_uri": "https://localhost:8080/"
        },
        "id": "zh_axPfjN8uf",
        "outputId": "9b139405-606c-4c98-9a3c-c27b85b90418"
      },
      "execution_count": null,
      "outputs": [
        {
          "output_type": "stream",
          "name": "stdout",
          "text": [
            "tabla de multiplicar\n",
            "9\n",
            "9*0=0\n",
            "9*1=9\n",
            "9*2=18\n",
            "9*3=27\n",
            "9*4=36\n",
            "9*5=45\n",
            "9*6=54\n",
            "9*7=63\n",
            "9*8=72\n",
            "9*9=81\n",
            "9*10=90\n"
          ]
        }
      ]
    },
    {
      "cell_type": "code",
      "source": [
        "num = int(input(\"Introduce un número: \"))\n",
        "es_primo = True\n",
        "\n",
        "if num <= 1:\n",
        "    es_primo = False\n",
        "else:\n",
        "    if num <= 3:\n",
        "        es_primo = True\n",
        "    elif num % 2 == 0 or num % 3 == 0:\n",
        "        es_primo = False\n",
        "    else:\n",
        "        i = 5\n",
        "        while i * i <= num:\n",
        "            if num % i == 0 or num % (i + 2) == 0:\n",
        "                es_primo = False\n",
        "                break\n",
        "            i += 6\n",
        "\n",
        "if es_primo:\n",
        "    print(f\"El número {num} es primo.\")\n",
        "else:\n",
        "    print(f\"El número {num} no es primo.\")"
      ],
      "metadata": {
        "id": "kfZBwtbnPnAl",
        "colab": {
          "base_uri": "https://localhost:8080/"
        },
        "outputId": "3e5b9b32-35ca-4f50-8fb6-ecb7a9d2ffd1"
      },
      "execution_count": 1,
      "outputs": [
        {
          "output_type": "stream",
          "name": "stdout",
          "text": [
            "Introduce un número: 3\n",
            "El número 3 es primo.\n"
          ]
        }
      ]
    },
    {
      "cell_type": "code",
      "source": [
        "maximo = int(input(\"Introduce un número límite: \"))\n",
        "suma = 0\n",
        "\n",
        "for i in range(1, maximo + 1):\n",
        "    suma += i\n",
        "\n",
        "print(f\"La suma de todos los números naturales hasta {maximo} es {suma}.\")"
      ],
      "metadata": {
        "colab": {
          "base_uri": "https://localhost:8080/"
        },
        "id": "NiHE19iYGRQd",
        "outputId": "08b2e9f7-a2ca-4648-f249-06a15bfe9787"
      },
      "execution_count": 2,
      "outputs": [
        {
          "output_type": "stream",
          "name": "stdout",
          "text": [
            "Introduce un número límite: 6\n",
            "La suma de todos los números naturales hasta 6 es 21.\n"
          ]
        }
      ]
    },
    {
      "cell_type": "code",
      "source": [
        "texto = input(\"Introduce una cadena: \")\n",
        "texto_invertido = texto[::-1]\n",
        "print(f\"El texto invertido es: {texto_invertido}\")"
      ],
      "metadata": {
        "colab": {
          "base_uri": "https://localhost:8080/"
        },
        "id": "LxtzZSdrGj4S",
        "outputId": "d1f56272-5e01-4c70-f38b-5c9f558949ba"
      },
      "execution_count": 3,
      "outputs": [
        {
          "output_type": "stream",
          "name": "stdout",
          "text": [
            "Introduce una cadena: asd\n",
            "El texto invertido es: dsa\n"
          ]
        }
      ]
    },
    {
      "cell_type": "code",
      "source": [
        "texto = input(\"Introduce un texto: \")\n",
        "vocales = 'aeiouAEIOU'\n",
        "sumadevocales = sum(1 for letra in texto if letra in vocales)\n",
        "print(f\"El número de vocales en el texto es: {sumadevocales}\")"
      ],
      "metadata": {
        "colab": {
          "base_uri": "https://localhost:8080/"
        },
        "id": "MBghz7fYG55o",
        "outputId": "5b167729-463b-4302-9805-8eacdf1a78ac"
      },
      "execution_count": 5,
      "outputs": [
        {
          "output_type": "stream",
          "name": "stdout",
          "text": [
            "Introduce un texto: aeiou\n",
            "El número de vocales en el texto es: 5\n"
          ]
        }
      ]
    },
    {
      "cell_type": "code",
      "source": [],
      "metadata": {
        "id": "jKf7lAN-HUVq"
      },
      "execution_count": null,
      "outputs": []
    }
  ]
}