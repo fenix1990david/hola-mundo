{
  "nbformat": 4,
  "nbformat_minor": 0,
  "metadata": {
    "colab": {
      "provenance": [],
      "authorship_tag": "ABX9TyNzbXecyFp5fvzILV6x15zS",
      "include_colab_link": true
    },
    "kernelspec": {
      "name": "python3",
      "display_name": "Python 3"
    },
    "language_info": {
      "name": "python"
    }
  },
  "cells": [
    {
      "cell_type": "markdown",
      "metadata": {
        "id": "view-in-github",
        "colab_type": "text"
      },
      "source": [
        "<a href=\"https://colab.research.google.com/github/fenix1990david/hola-mundo/blob/main/A_T2_AYALA_DAVID.ipynb\" target=\"_parent\"><img src=\"https://colab.research.google.com/assets/colab-badge.svg\" alt=\"Open In Colab\"/></a>"
      ]
    },
    {
      "cell_type": "code",
      "execution_count": 1,
      "metadata": {
        "colab": {
          "base_uri": "https://localhost:8080/"
        },
        "id": "LFx19yJBqsLQ",
        "outputId": "7162bac7-3573-4fc4-fe43-60ad63fa8e1f"
      },
      "outputs": [
        {
          "output_type": "stream",
          "name": "stdout",
          "text": [
            "hola mundo\n"
          ]
        }
      ],
      "source": [
        "print (\"hola mundo\")"
      ]
    },
    {
      "cell_type": "code",
      "source": [
        "a=(int(input(\"Ingrese un numero\\n\")))\n",
        "b=(int(input(\"Ingrese otro numero\\n\")))\n",
        "\n",
        "suma=a+b\n",
        "\n",
        "print (\"La suma es \\n\",suma)"
      ],
      "metadata": {
        "colab": {
          "base_uri": "https://localhost:8080/"
        },
        "id": "O9NSCG_Rq4A7",
        "outputId": "88c047fc-ad44-4918-ed0d-f8690481097d"
      },
      "execution_count": 10,
      "outputs": [
        {
          "output_type": "stream",
          "name": "stdout",
          "text": [
            "Ingrese un numero\n",
            "2\n",
            "Ingrese otro numero\n",
            "1\n",
            "Laa suma es \n",
            " 3\n"
          ]
        }
      ]
    },
    {
      "cell_type": "code",
      "source": [
        "operacion=(\"ingrese la operaciòn\")\n",
        "a=(int(input(\"Ingrese un numero\\n\")))\n",
        "b=(int(input(\"Ingrese otro numero\\n\")))\n",
        "\n",
        "if operacion = (suma):\n",
        "suma=a+b\n",
        "print (\"la suma es\",suma)\n",
        "if operacip\n",
        "\n",
        "\n",
        "print (\"La suma es \\n\",suma)"
      ],
      "metadata": {
        "id": "7nbq0iykrRpS"
      },
      "execution_count": 7,
      "outputs": []
    }
  ]
}